{
 "metadata": {
  "name": "",
  "signature": "sha256:285ee629a81b1e028229fcf45d20f5747ee283790e89c901101f645f8c9e2537"
 },
 "nbformat": 3,
 "nbformat_minor": 0,
 "worksheets": [
  {
   "cells": [
    {
     "cell_type": "code",
     "collapsed": false,
     "input": [
      "import ambry\n",
      "\n",
      "l = ambry.ilibrary()"
     ],
     "language": "python",
     "metadata": {},
     "outputs": [],
     "prompt_number": 1
    },
    {
     "cell_type": "markdown",
     "metadata": {},
     "source": []
    },
    {
     "cell_type": "code",
     "collapsed": false,
     "input": [
      "l.list()"
     ],
     "language": "python",
     "metadata": {},
     "outputs": [
      {
       "html": [
        "<table><tr><td>L R</td><td>d004001</td><td>abc.ca.gov-alcohol_licenses-orig-0.1.1</td></tr>\n",
        "<tr><td>LSR</td><td>d004002</td><td>abc.ca.gov-alcohol_licenses-orig-0.1.2</td></tr>\n",
        "<tr><td>S</td><td>d005001</td><td>bea.gov-international-transactions-orig-0.1.1</td></tr>\n",
        "<tr><td>L R</td><td>d006001</td><td>bea.gov-metro_gdp-orig-0.1.1</td></tr>\n",
        "<tr><td>L R</td><td>d007001</td><td>cde.ca.gov-api-combined-0.1.1</td></tr>\n",
        "<tr><td>L R</td><td>d007002</td><td>cde.ca.gov-api-combined-0.1.2</td></tr>\n",
        "<tr><td>L R</td><td>d007003</td><td>cde.ca.gov-api-combined-0.1.3</td></tr>\n",
        "<tr><td>L R</td><td>d007004</td><td>cde.ca.gov-api-combined-0.1.4</td></tr>\n",
        "<tr><td>L R</td><td>d008001</td><td>cde.ca.gov-api-orig-0.1.1</td></tr>\n",
        "<tr><td>L R</td><td>d008002</td><td>cde.ca.gov-api-orig-0.1.2</td></tr>\n",
        "<tr><td>L R</td><td>d009001</td><td>cde.ca.gov-celdt-orig-0.1.1</td></tr>\n",
        "<tr><td>L R</td><td>d00a001</td><td>cde.ca.gov-schools-combined-0.1.1</td></tr>\n",
        "<tr><td>L R</td><td>d00b002</td><td>cde.ca.gov-schools-orig-0.1.2</td></tr>\n",
        "<tr><td>L R</td><td>d02k001</td><td>cde.ca.gov-star-orig-0.1.1</td></tr>\n",
        "<tr><td>L R</td><td>d00c003</td><td>census.gov-2000_population-geo-orig-0.1.3</td></tr>\n",
        "<tr><td>L R</td><td>d00d006</td><td>census.gov-2010_population-geo-orig-0.1.6</td></tr>\n",
        "<tr><td>L R</td><td>d00h001</td><td>census.gov-acs-geo-orig-0.1.1</td></tr>\n",
        "<tr><td>L R</td><td>d024003</td><td>census.gov-acs-p5ye2012-0.0.3</td></tr>\n",
        "<tr><td>L R</td><td>d00i005</td><td>census.gov-geography-dim-orig-0.1.5</td></tr>\n",
        "<tr><td>L R</td><td>d00j004</td><td>census.gov-tigerline-2010-orig-0.1.4</td></tr>\n",
        "<tr><td>L R</td><td>d025001</td><td>census.gov-tigerline-2012-0.0.1</td></tr>\n",
        "<tr><td>L R</td><td>d025002</td><td>census.gov-tigerline-2012-0.0.2</td></tr>\n",
        "<tr><td>L R</td><td>d025003</td><td>census.gov-tigerline-2012-0.0.3</td></tr>\n",
        "<tr><td>L R</td><td>d00l003</td><td>chp.ca.gov-switrs-orig-0.1.3</td></tr>\n",
        "<tr><td>LSR</td><td>d00l004</td><td>chp.ca.gov-switrs-orig-0.1.4</td></tr>\n",
        "<tr><td>L R</td><td>d00p001</td><td>clarinova.com-collisions-casnd-0.1.1</td></tr>\n",
        "<tr><td>L R</td><td>d00q007</td><td>clarinova.com-crime-incidents-casnd-0.1.7</td></tr>\n",
        "<tr><td>L R</td><td>d00q008</td><td>clarinova.com-crime-incidents-casnd-geocoded-0.1.8</td></tr>\n",
        "<tr><td>L R</td><td>d02j002</td><td>clarinova.com-crime-incidents-casnd-linked-0.1.2</td></tr>\n",
        "<tr><td>L R</td><td>d00s004</td><td>clarinova.com-geocode-casnd-1.0.4</td></tr>\n",
        "<tr><td>L R</td><td>d00s005</td><td>clarinova.com-geocode-casnd-1.0.5</td></tr>\n",
        "<tr><td>L R</td><td>d00s006</td><td>clarinova.com-geocode-casnd-1.0.6</td></tr>\n",
        "<tr><td>L R</td><td>d00v005</td><td>clarinova.com-places-casnd-0.1.5</td></tr>\n",
        "<tr><td>L R</td><td>d00v006</td><td>clarinova.com-places-casnd-0.1.6</td></tr>\n",
        "<tr><td>L R</td><td>d00v007</td><td>clarinova.com-places-casnd-0.1.7</td></tr>\n",
        "<tr><td>L R</td><td>d00A001</td><td>clarinova.com-time-orig-0.1.1</td></tr>\n",
        "<tr><td>L R</td><td>d00F001</td><td>example.com-altdb-orig-0.1.1</td></tr>\n",
        "<tr><td>L R</td><td>dHSyDm4MNR001</td><td>example.com-random-0.0.1</td></tr>\n",
        "<tr><td>L R</td><td>dHSyDm4MNR002</td><td>example.com-random-0.0.2</td></tr>\n",
        "<tr><td>L R</td><td>d00G001</td><td>example.com-segmented-orig-0.1.1</td></tr>\n",
        "<tr><td>L R</td><td>d00H002</td><td>example.com-simple-orig-0.1.2</td></tr>\n",
        "<tr><td>L R</td><td>d00L002</td><td>sandag.org-crimeincidents-orig-0.1.2</td></tr>\n",
        "<tr><td>L R</td><td>d00M001</td><td>sandiego.gov-businesses-orig-0.1.1</td></tr>\n",
        "<tr><td>L R</td><td>d00N001</td><td>sangis.org-business-sites-orig-0.1.1</td></tr>\n",
        "<tr><td>L R</td><td>d00O001</td><td>sangis.org-landuse-orig-0.1.1</td></tr>\n",
        "<tr><td>L R</td><td>d00P001</td><td>sangis.org-neighborhoods-orig-0.1.1</td></tr>\n",
        "<tr><td>L R</td><td>d00Q001</td><td>sangis.org-parcels-orig-0.1.1</td></tr>\n",
        "<tr><td>L R</td><td>d00R001</td><td>sangis.org-places-orig-0.1.1</td></tr>\n",
        "<tr><td>L R</td><td>d00S001</td><td>sangis.org-street_lights-orig-0.1.1</td></tr>\n",
        "<tr><td>L R</td><td>d00T002</td><td>sangis.org-streets-orig-0.1.2</td></tr>\n",
        "<tr><td>S</td><td>d02b001</td><td>unlv.edu-state_plane-0.0.1</td></tr></table>"
       ],
       "metadata": {},
       "output_type": "pyout",
       "prompt_number": 2,
       "text": [
        "<ambry.identity.IdentitySet at 0x2fe1ad0>"
       ]
      }
     ],
     "prompt_number": 2
    },
    {
     "cell_type": "code",
     "collapsed": false,
     "input": [
      "l.find(name=\"business\")"
     ],
     "language": "python",
     "metadata": {},
     "outputs": [
      {
       "html": [
        "<table><tr><td>L R</td><td>d00N001</td><td>sangis.org-business-sites-orig-0.1.1</td></tr>\n",
        "<tr><td>L R</td><td>d00M001</td><td>sandiego.gov-businesses-orig-0.1.1</td></tr></table>"
       ],
       "metadata": {},
       "output_type": "pyout",
       "prompt_number": 3,
       "text": [
        "<ambry.identity.IdentitySet at 0x304b310>"
       ]
      }
     ],
     "prompt_number": 3
    },
    {
     "cell_type": "code",
     "collapsed": false,
     "input": [
      "b = l.get('sandiego.gov-businesses-orig')\n",
      "b"
     ],
     "language": "python",
     "metadata": {},
     "outputs": [
      {
       "html": [
        "<table>\n",
        "<tr><td><strong>Identity</strong></td><td></td></tr>\n",
        "<tr><td align=\"right\">Vid</td><td>d00M001</td></tr>\n",
        "<tr><td align=\"right\">Sname</td><td>sandiego.gov-businesses-orig</td></tr>\n",
        "<tr><td align=\"right\">Vname</td><td>sandiego.gov-businesses-orig-0.1.1</td></tr>\n",
        "<tr><td align=\"left\">Locations</td><td>L</td></tr>\n",
        "<tr><td><strong>Source</strong></td><td></td></tr>\n",
        "<tr><td align=\"right\">Db</td><td>/ambry/library/sandiego.gov/businesses-orig-0.1.1.db</td></tr>\n",
        "<tr><td align=\"right\">Created</td><td></td></tr>\n",
        "<tr><td align=\"right\">Built</td><td>2014-02-03T04:40:56.175442</td></tr>\n",
        "<tr><td align=\"right\">Build_Time</td><td>12.21s</td></tr>\n",
        "<tr><td align=\"right\">Prepared</td><td>2014-02-03T04:40:43.796980</td></tr>\n",
        "<tr><td align=\"left\">Partitions</td><td>1</td></tr>\n",
        "</table>"
       ],
       "metadata": {},
       "output_type": "pyout",
       "prompt_number": 5,
       "text": [
        "<ambry.bundle.bundle.DbBundle at 0x3191f10>"
       ]
      }
     ],
     "prompt_number": 5
    },
    {
     "cell_type": "code",
     "collapsed": false,
     "input": [
      "b.partitions"
     ],
     "language": "python",
     "metadata": {},
     "outputs": [
      {
       "html": [
        "<table>\n",
        "<tr><th>Id</th><th>Vid</th><th>Name</th><th>VName</th><th>Table</th></tr>\n",
        "<tr><td>p00M001</td><td>p00M001001</td><td>sandiego.gov-businesses-orig-businesses</td><td>sandiego.gov-businesses-orig-businesses-0.1.1</td><td>businesses</td></tr>\n",
        "</table>"
       ],
       "metadata": {},
       "output_type": "pyout",
       "prompt_number": 6,
       "text": [
        "<ambry.partitions.Partitions at 0x3066510>"
       ]
      }
     ],
     "prompt_number": 6
    },
    {
     "cell_type": "code",
     "collapsed": false,
     "input": [
      "l.get('sandiego.gov-businesses-orig-businesses')"
     ],
     "language": "python",
     "metadata": {},
     "outputs": [
      {
       "html": [
        "<table>\n",
        "<tr><td><strong>Identity</strong></td><td></td></tr>\n",
        "<tr><td align=\"right\">Vid</td><td>d00M001</td></tr>\n",
        "<tr><td align=\"right\">Sname</td><td>sandiego.gov-businesses-orig</td></tr>\n",
        "<tr><td align=\"right\">Vname</td><td>sandiego.gov-businesses-orig-0.1.1</td></tr>\n",
        "<tr><td align=\"left\">Locations</td><td>L</td></tr>\n",
        "<tr><td><strong>Source</strong></td><td></td></tr>\n",
        "<tr><td align=\"right\">Db</td><td>/ambry/library/sandiego.gov/businesses-orig-0.1.1.db</td></tr>\n",
        "<tr><td align=\"right\">Created</td><td></td></tr>\n",
        "<tr><td align=\"right\">Built</td><td>2014-02-03T04:40:56.175442</td></tr>\n",
        "<tr><td align=\"right\">Build_Time</td><td>12.21s</td></tr>\n",
        "<tr><td align=\"right\">Prepared</td><td>2014-02-03T04:40:43.796980</td></tr>\n",
        "<tr><td align=\"left\">Partitions</td><td>1</td></tr>\n",
        "</table>"
       ],
       "metadata": {},
       "output_type": "pyout",
       "prompt_number": 7,
       "text": [
        "<ambry.bundle.bundle.DbBundle at 0x3191f10>"
       ]
      }
     ],
     "prompt_number": 7
    },
    {
     "cell_type": "code",
     "collapsed": false,
     "input": [
      "p = l.get('sandiego.gov-businesses-orig-businesses').partition\n",
      "p"
     ],
     "language": "python",
     "metadata": {},
     "outputs": [
      {
       "html": [
        "<p>------ Partition: sandiego.gov-businesses-orig-businesses ------<br/>\n",
        "vid       : p00M001001<br/>\n",
        "name      : sandiego.gov-businesses-orig-businesses<br/>\n",
        "vname     : sandiego.gov-businesses-orig-businesses-0.1.1<br/>\n",
        "format    : db<br/>\n",
        "variation : orig<br/>\n",
        "dataset   : businesses<br/>\n",
        "source    : sandiego.gov<br/>\n",
        "version   : 0.1.1<br/>\n",
        "table     : businesses<br/>\n",
        "cache_key : sandiego.gov/businesses-orig-0.1.1/businesses.db<br/>\n",
        "id        : p00M001<br/>\n",
        "revision  : 1<br/>\n",
        "path      : /ambry/library/sandiego.gov/businesses-orig-0.1.1/businesses.db<br/>\n",
        "tables    : businesses<br/>\n",
        "</p>"
       ],
       "metadata": {},
       "output_type": "pyout",
       "prompt_number": 10,
       "text": [
        "<db partition: sandiego.gov-businesses-orig-businesses-0.1.1>"
       ]
      }
     ],
     "prompt_number": 10
    },
    {
     "cell_type": "code",
     "collapsed": false,
     "input": [
      " p.tables"
     ],
     "language": "python",
     "metadata": {},
     "outputs": [
      {
       "metadata": {},
       "output_type": "pyout",
       "prompt_number": 11,
       "text": [
        "[u'businesses']"
       ]
      }
     ],
     "prompt_number": 11
    },
    {
     "cell_type": "code",
     "collapsed": false,
     "input": [
      "p.table"
     ],
     "language": "python",
     "metadata": {},
     "outputs": [
      {
       "html": [
        "\n",
        "        <table>\n",
        "        <tr><th>Name</th><td>businesses</td></tr>\n",
        "        <tr><th>Id</th><td>t00M01</td></tr>\n",
        "        <tr><th>Vid</th><td>t00M01001</td></tr>\n",
        "        </table>\n",
        "        <table>\n",
        "<tr><th>#</th><th>Name</th><th>Datatype</th><th>description</th></tr>\n",
        "<tr><td>1</td><td>businesses_id</td><td>INTEGER</td><td></td></tr>\n",
        "<tr><td>2</td><td>acct_no</td><td>INTEGER</td><td>Category name for the codes</td></tr>\n",
        "<tr><td>3</td><td>dba</td><td>TEXT</td><td>Code used in the data</td></tr>\n",
        "<tr><td>4</td><td>incorp_type</td><td>TEXT</td><td>String value for the code</td></tr>\n",
        "<tr><td>5</td><td>address</td><td>TEXT</td><td>ID Value, such as geoid of a city.</td></tr>\n",
        "<tr><td>6</td><td>city</td><td>TEXT</td><td></td></tr>\n",
        "<tr><td>7</td><td>zip</td><td>INTEGER</td><td></td></tr>\n",
        "<tr><td>8</td><td>zip5</td><td>INTEGER</td><td>Zip without +4 suffix</td></tr>\n",
        "<tr><td>9</td><td>zip4</td><td>INTEGER</td><td>Zip+4 suffix</td></tr>\n",
        "<tr><td>10</td><td>state</td><td>TEXT</td><td></td></tr>\n",
        "<tr><td>11</td><td>phone</td><td>TEXT</td><td></td></tr>\n",
        "<tr><td>12</td><td>owner</td><td>TEXT</td><td></td></tr>\n",
        "<tr><td>13</td><td>created</td><td>TEXT</td><td></td></tr>\n",
        "<tr><td>14</td><td>started</td><td>TEXT</td><td></td></tr>\n",
        "<tr><td>15</td><td>expires</td><td>TEXT</td><td></td></tr>\n",
        "<tr><td>16</td><td>naics</td><td>INTEGER</td><td>None</td></tr>\n",
        "<tr><td>17</td><td>desc</td><td>TEXT</td><td>None</td></tr>\n",
        "</table>"
       ],
       "metadata": {},
       "output_type": "pyout",
       "prompt_number": 12,
       "text": [
        "<ambry.orm.Table at 0x32e1850>"
       ]
      }
     ],
     "prompt_number": 12
    },
    {
     "cell_type": "code",
     "collapsed": false,
     "input": [
      "import warnings\n",
      "warnings.filterwarnings('ignore')"
     ],
     "language": "python",
     "metadata": {},
     "outputs": [],
     "prompt_number": 13
    },
    {
     "cell_type": "code",
     "collapsed": false,
     "input": [
      "bus = p.select(\"SELECT count(*) from businesses\").pandas"
     ],
     "language": "python",
     "metadata": {},
     "outputs": [],
     "prompt_number": 14
    },
    {
     "cell_type": "code",
     "collapsed": false,
     "input": [
      "bus.head()"
     ],
     "language": "python",
     "metadata": {},
     "outputs": [
      {
       "html": [
        "<div style=\"max-height:1000px;max-width:1500px;overflow:auto;\">\n",
        "<table border=\"1\" class=\"dataframe\">\n",
        "  <thead>\n",
        "    <tr style=\"text-align: right;\">\n",
        "      <th></th>\n",
        "      <th>count(*)</th>\n",
        "    </tr>\n",
        "  </thead>\n",
        "  <tbody>\n",
        "    <tr>\n",
        "      <th>0</th>\n",
        "      <td> 55598</td>\n",
        "    </tr>\n",
        "  </tbody>\n",
        "</table>\n",
        "</div>"
       ],
       "metadata": {},
       "output_type": "pyout",
       "prompt_number": 15,
       "text": [
        "   count(*)\n",
        "0     55598"
       ]
      }
     ],
     "prompt_number": 15
    },
    {
     "cell_type": "code",
     "collapsed": false,
     "input": [
      "bus = p.select(\"SELECT * from businesses\").pandas\n",
      "bus.head()"
     ],
     "language": "python",
     "metadata": {},
     "outputs": [
      {
       "html": [
        "<div style=\"max-height:1000px;max-width:1500px;overflow:auto;\">\n",
        "<table border=\"1\" class=\"dataframe\">\n",
        "  <thead>\n",
        "    <tr style=\"text-align: right;\">\n",
        "      <th></th>\n",
        "      <th>businesses_id</th>\n",
        "      <th>acct_no</th>\n",
        "      <th>dba</th>\n",
        "      <th>incorp_type</th>\n",
        "      <th>address</th>\n",
        "      <th>city</th>\n",
        "      <th>zip</th>\n",
        "      <th>zip5</th>\n",
        "      <th>zip4</th>\n",
        "      <th>state</th>\n",
        "      <th>phone</th>\n",
        "      <th>owner</th>\n",
        "      <th>created</th>\n",
        "      <th>started</th>\n",
        "      <th>expires</th>\n",
        "      <th>naics</th>\n",
        "      <th>desc</th>\n",
        "    </tr>\n",
        "  </thead>\n",
        "  <tbody>\n",
        "    <tr>\n",
        "      <th>0</th>\n",
        "      <td> 1</td>\n",
        "      <td> 1981012901</td>\n",
        "      <td> #1 Fifth Avenue</td>\n",
        "      <td> corp</td>\n",
        "      <td>                 3845 05Th Ave</td>\n",
        "      <td> San Diego</td>\n",
        "      <td> 92103-3140</td>\n",
        "      <td> 92103</td>\n",
        "      <td> 3140</td>\n",
        "      <td> CA</td>\n",
        "      <td>               </td>\n",
        "      <td>           Pubway Corp</td>\n",
        "      <td> 1981-12-09</td>\n",
        "      <td> 1981-12-09</td>\n",
        "      <td> 2014-11-30</td>\n",
        "      <td>    722</td>\n",
        "      <td>         Food Services &amp; Drinking Places</td>\n",
        "    </tr>\n",
        "    <tr>\n",
        "      <th>1</th>\n",
        "      <td> 2</td>\n",
        "      <td> 2012052842</td>\n",
        "      <td>       $10 Shoes</td>\n",
        "      <td> corp</td>\n",
        "      <td>     5075 Federal Blvd Suite B</td>\n",
        "      <td> San Diego</td>\n",
        "      <td> 92102-2652</td>\n",
        "      <td> 92102</td>\n",
        "      <td> 2652</td>\n",
        "      <td> CA</td>\n",
        "      <td> (619) 527-3391</td>\n",
        "      <td>   Mariellas Shoes Inc</td>\n",
        "      <td> 2012-10-22</td>\n",
        "      <td> 2012-11-01</td>\n",
        "      <td> 2014-10-31</td>\n",
        "      <td>  44821</td>\n",
        "      <td>                             Shoe Stores</td>\n",
        "    </tr>\n",
        "    <tr>\n",
        "      <th>2</th>\n",
        "      <td> 3</td>\n",
        "      <td> 2007029380</td>\n",
        "      <td>       $10 Shoes</td>\n",
        "      <td> corp</td>\n",
        "      <td> 3807 Fairmount Ave Suite 300B</td>\n",
        "      <td> San Diego</td>\n",
        "      <td> 92105-2659</td>\n",
        "      <td> 92105</td>\n",
        "      <td> 2659</td>\n",
        "      <td> CA</td>\n",
        "      <td> (619) 281-8364</td>\n",
        "      <td> The M Enterprises Inc</td>\n",
        "      <td> 2007-11-23</td>\n",
        "      <td> 2007-10-12</td>\n",
        "      <td> 2014-10-31</td>\n",
        "      <td>    448</td>\n",
        "      <td>  Clothing &amp; Clothing Accessories Stores</td>\n",
        "    </tr>\n",
        "    <tr>\n",
        "      <th>3</th>\n",
        "      <td> 4</td>\n",
        "      <td> 2010034224</td>\n",
        "      <td> % Natural Gomez</td>\n",
        "      <td> sole</td>\n",
        "      <td>            3073 Fairmount Ave</td>\n",
        "      <td> San Diego</td>\n",
        "      <td> 92105-4638</td>\n",
        "      <td> 92105</td>\n",
        "      <td> 4638</td>\n",
        "      <td> CA</td>\n",
        "      <td> (619) 417-0105</td>\n",
        "      <td>           Juana Gomez</td>\n",
        "      <td> 2010-11-12</td>\n",
        "      <td> 2010-11-12</td>\n",
        "      <td> 2014-11-30</td>\n",
        "      <td> 446199</td>\n",
        "      <td> All Other Health &amp; Personal Care Stores</td>\n",
        "    </tr>\n",
        "    <tr>\n",
        "      <th>4</th>\n",
        "      <td> 5</td>\n",
        "      <td> 2007016185</td>\n",
        "      <td>     +A Partners</td>\n",
        "      <td> corp</td>\n",
        "      <td>                3916 Normal St</td>\n",
        "      <td> San Diego</td>\n",
        "      <td> 92103-3413</td>\n",
        "      <td> 92103</td>\n",
        "      <td> 3413</td>\n",
        "      <td> CA</td>\n",
        "      <td> (619) 294-4477</td>\n",
        "      <td>           +A Partners</td>\n",
        "      <td> 2007-07-11</td>\n",
        "      <td> 2004-07-01</td>\n",
        "      <td> 2014-06-30</td>\n",
        "      <td>    531</td>\n",
        "      <td>                             Real Estate</td>\n",
        "    </tr>\n",
        "  </tbody>\n",
        "</table>\n",
        "</div>"
       ],
       "metadata": {},
       "output_type": "pyout",
       "prompt_number": 16,
       "text": [
        "   businesses_id     acct_no              dba incorp_type  \\\n",
        "0              1  1981012901  #1 Fifth Avenue        corp   \n",
        "1              2  2012052842        $10 Shoes        corp   \n",
        "2              3  2007029380        $10 Shoes        corp   \n",
        "3              4  2010034224  % Natural Gomez        sole   \n",
        "4              5  2007016185      +A Partners        corp   \n",
        "\n",
        "                         address       city         zip   zip5  zip4 state  \\\n",
        "0                  3845 05Th Ave  San Diego  92103-3140  92103  3140    CA   \n",
        "1      5075 Federal Blvd Suite B  San Diego  92102-2652  92102  2652    CA   \n",
        "2  3807 Fairmount Ave Suite 300B  San Diego  92105-2659  92105  2659    CA   \n",
        "3             3073 Fairmount Ave  San Diego  92105-4638  92105  4638    CA   \n",
        "4                 3916 Normal St  San Diego  92103-3413  92103  3413    CA   \n",
        "\n",
        "            phone                  owner     created     started     expires  \\\n",
        "0                            Pubway Corp  1981-12-09  1981-12-09  2014-11-30   \n",
        "1  (619) 527-3391    Mariellas Shoes Inc  2012-10-22  2012-11-01  2014-10-31   \n",
        "2  (619) 281-8364  The M Enterprises Inc  2007-11-23  2007-10-12  2014-10-31   \n",
        "3  (619) 417-0105            Juana Gomez  2010-11-12  2010-11-12  2014-11-30   \n",
        "4  (619) 294-4477            +A Partners  2007-07-11  2004-07-01  2014-06-30   \n",
        "\n",
        "    naics                                     desc  \n",
        "0     722          Food Services & Drinking Places  \n",
        "1   44821                              Shoe Stores  \n",
        "2     448   Clothing & Clothing Accessories Stores  \n",
        "3  446199  All Other Health & Personal Care Stores  \n",
        "4     531                              Real Estate  "
       ]
      }
     ],
     "prompt_number": 16
    },
    {
     "cell_type": "code",
     "collapsed": false,
     "input": [
      " bus.to_csv(\"sd_businesses.csv\")"
     ],
     "language": "python",
     "metadata": {},
     "outputs": [],
     "prompt_number": 17
    },
    {
     "cell_type": "code",
     "collapsed": false,
     "input": [
      "!ls"
     ],
     "language": "python",
     "metadata": {},
     "outputs": [
      {
       "output_type": "stream",
       "stream": "stdout",
       "text": [
        "README.md  sd_businesses.csv  test-ambry-on-server-kev.ipynb  Untitled0.ipynb\r\n"
       ]
      }
     ],
     "prompt_number": 18
    },
    {
     "cell_type": "markdown",
     "metadata": {},
     "source": [
      "[SD Business Link](sd_businesses.csv)"
     ]
    },
    {
     "cell_type": "code",
     "collapsed": false,
     "input": [],
     "language": "python",
     "metadata": {},
     "outputs": []
    }
   ],
   "metadata": {}
  }
 ]
}